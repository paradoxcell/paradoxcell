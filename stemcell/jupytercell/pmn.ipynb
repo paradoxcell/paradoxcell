{
 "cells": [
  {
   "cell_type": "code",
   "execution_count": null,
   "metadata": {},
   "outputs": [],
   "source": [
    "# Standard library imports\n",
    "import sys\n",
    "\n",
    "# Related third party imports\n",
    "from tqdm import tqdm\n",
    "import pandas as pd\n",
    "\n",
    "# Local application/library specific imports.\n",
    "# paradoxcell\n",
    "sys.path.append('/10Gdata/sjt')\n",
    "import paradoxcell as pc\n"
   ]
  },
  {
   "cell_type": "code",
   "execution_count": null,
   "metadata": {},
   "outputs": [],
   "source": [
    "pmn_reaction_directory = '/10Gdata/sjt/data/database/pmn'\n",
    "pmn_compound_directory = '/10Gdata/sjt/data/database/pmn'\n",
    "\n",
    "pmn_reaction = pc.DataFile(\n",
    "    pmn_reaction_directory,\n",
    "    'reactions.dat',\n",
    "    'cp1252',\n",
    "    '\\\\'\n",
    ")\n",
    "\n",
    "pmn_reaction_paths = pmn_reaction.get_path()\n",
    "\n",
    "pmn_compound = pc.DataFile(\n",
    "    pmn_compound_directory ,\n",
    "    'compounds.dat',\n",
    "    'cp1252',\n",
    "    '\\\\'\n",
    ")\n",
    "\n",
    "pmn_compound_paths = pmn_compound.get_path()"
   ]
  },
  {
   "cell_type": "code",
   "execution_count": null,
   "metadata": {},
   "outputs": [],
   "source": [
    "df_pmn_reaction = pd.DataFrame()\n",
    "\n",
    "for path in tqdm(pmn_reaction_paths):\n",
    "    with open(path,encoding='cp1252') as f:\n",
    "        data = f.read()\n",
    "    list_pmn_reaction = list()\n",
    "    organism = \"\".join([z.split(':')[1].strip() for z in data.split('//\\n')[0].split('#') if z.startswith(' Organism: ')])\n",
    "    for i in data.split('//\\n'):\n",
    "        ec = \",\".join([t for k in i.split('\\n') if k.startswith('EC-NUMBER') for t in k.split(' - ')[1:]])\n",
    "        id = \",\".join([t for k in i.split('\\n') if k.startswith('UNIQUE-ID') for t in k.split(' - ')[1:]])\n",
    "        left = \",\".join([t for k in i.split('\\n') if k.startswith('LEFT') for t in k.split(' - ')[1:]])\n",
    "        right = \",\".join([t for k in i.split('\\n') if k.startswith('RIGHT') for t in k.split(' - ')[1:]])\n",
    "        balance = \",\".join([t for k in i.split('\\n') if k.startswith('REACTION-BALANCE-STATUS') for t in k.split(' - ')[1:]])\n",
    "        direction = \",\".join([t for k in i.split('\\n') if k.startswith('REACTION-DIRECTION') for t in k.split(' - ')[1:]])\n",
    "        list_pmn_reaction.append((organism,ec,id,left,right,balance,direction))\n",
    "    df = pd.DataFrame(list_pmn_reaction,columns=['organism','ec','id','left','right','balance','direction'])\n",
    "    df_pmn_reaction = pd.concat([df_pmn_reaction,df],ignore_index=True)\n",
    "\n",
    "df_pmn_reaction"
   ]
  },
  {
   "cell_type": "code",
   "execution_count": null,
   "metadata": {},
   "outputs": [],
   "source": [
    "df_pmn_compound = pd.DataFrame()\n",
    "\n",
    "for path in tqdm(pmn_compound_paths):\n",
    "    with open(path,encoding='cp1252') as f:\n",
    "        data = f.read()\n",
    "    list_pmn_compound = list()\n",
    "    organism = \"\".join([z.split(':')[1].strip() for z in data.split('//\\n')[0].split('#') if z.startswith(' Organism: ')])\n",
    "    for i in data.split('//\\n'):\n",
    "        id = \",\".join([t for k in i.split('\\n') if k.startswith('UNIQUE-ID') for t in k.split(' - ')[1:]])\n",
    "        dblink = \",\".join([\":\".join([z.strip('(').strip() for z in t.split('\"')[0:2]]) for k in i.split('\\n') if k.startswith('DBLINKS') for t in k.split(' - ')[1:]])\n",
    "        smiles = \",\".join([t for k in i.split('\\n') if k.startswith('SMILES') for t in k.split(' - ')[1:]])\n",
    "        list_pmn_compound.append((organism,id,dblink,smiles))\n",
    "    df = pd.DataFrame(list_pmn_compound,columns=['organism','id','dblink','smiles'])\n",
    "    df_pmn_compound = pd.concat([df_pmn_compound,df],ignore_index=True)\n",
    "\n",
    "df_pmn_compound['LIGAND-CPD'] = df_pmn_compound['dblink'].apply(lambda x : x[x.find('LIGAND-CPD')+11:x.find('LIGAND-CPD')+17] if x.find('LIGAND-CPD:') != -1 else None)\n",
    "\n",
    "df_pmn_compound"
   ]
  },
  {
   "cell_type": "code",
   "execution_count": null,
   "metadata": {},
   "outputs": [],
   "source": []
  }
 ],
 "metadata": {
  "language_info": {
   "name": "python"
  },
  "orig_nbformat": 4
 },
 "nbformat": 4,
 "nbformat_minor": 2
}
