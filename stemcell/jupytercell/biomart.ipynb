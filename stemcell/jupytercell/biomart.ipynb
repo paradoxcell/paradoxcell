{
 "cells": [
  {
   "cell_type": "code",
   "execution_count": null,
   "metadata": {},
   "outputs": [],
   "source": [
    "library(biomaRt)"
   ]
  },
  {
   "cell_type": "code",
   "execution_count": null,
   "metadata": {},
   "outputs": [],
   "source": [
    "listMarts(\n",
    "    host =\"https://ensembl.gramene.org\"\n",
    "    )"
   ]
  },
  {
   "cell_type": "code",
   "execution_count": null,
   "metadata": {},
   "outputs": [],
   "source": [
    "ensembl = useEnsembl(\n",
    "    biomart=\"ENSEMBL_MART_PLANT\",\n",
    "    host =\"https://ensembl.gramene.org\"\n",
    "    )\n",
    "head(listMarts(ensembl))"
   ]
  },
  {
   "cell_type": "code",
   "execution_count": null,
   "metadata": {},
   "outputs": [],
   "source": [
    "mart = useMart(\n",
    "    biomart=\"ENSEMBL_MART_PLANT\",\n",
    "    host =\"https://ensembl.gramene.org\"\n",
    "    )\n",
    "head(listMarts(mart))"
   ]
  },
  {
   "cell_type": "code",
   "execution_count": null,
   "metadata": {},
   "outputs": [],
   "source": [
    "datasetname = listDatasets(mart)[['dataset']]\n",
    "datasetname"
   ]
  },
  {
   "cell_type": "code",
   "execution_count": null,
   "metadata": {},
   "outputs": [],
   "source": [
    "for (i in datasetname[1]){\n",
    "    mart = useMart(\n",
    "    biomart=\"ENSEMBL_MART_PLANT\",\n",
    "    dataset = i,\n",
    "    host =\"https://ensembl.gramene.org\"\n",
    "    )\n",
    "    print(listAttributes(mart)['description'])\n",
    "}"
   ]
  },
  {
   "cell_type": "code",
   "execution_count": null,
   "metadata": {},
   "outputs": [],
   "source": []
  }
 ],
 "metadata": {
  "language_info": {
   "name": "python"
  },
  "orig_nbformat": 4
 },
 "nbformat": 4,
 "nbformat_minor": 2
}
