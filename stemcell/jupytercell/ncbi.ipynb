{
 "cells": [
  {
   "cell_type": "code",
   "execution_count": null,
   "metadata": {},
   "outputs": [],
   "source": [
    "import tarfile\n"
   ]
  },
  {
   "cell_type": "code",
   "execution_count": 1,
   "metadata": {},
   "outputs": [
    {
     "name": "stdout",
     "output_type": "stream",
     "text": [
      "--2022-05-27 15:54:43--  https://ftp.ncbi.nlm.nih.gov/pub/taxonomy/taxdump.tar.gz\n",
      "Resolving ftp.ncbi.nlm.nih.gov (ftp.ncbi.nlm.nih.gov)... 130.14.250.12, 130.14.250.11, 2607:f220:41e:250::7, ...\n",
      "Connecting to ftp.ncbi.nlm.nih.gov (ftp.ncbi.nlm.nih.gov)|130.14.250.12|:443... connected.\n",
      "HTTP request sent, awaiting response... 200 OK\n",
      "Length: 58225224 (56M) [application/x-gzip]\n",
      "Saving to: ‘/10Gdata/sjt/data/database/taxonomy/taxdump.tar.gz’\n",
      "\n",
      "taxdump.tar.gz      100%[===================>]  55.53M  4.19MB/s    in 14s     \n",
      "\n",
      "2022-05-27 15:54:58 (3.95 MB/s) - ‘/10Gdata/sjt/data/database/taxonomy/taxdump.tar.gz’ saved [58225224/58225224]\n",
      "\n"
     ]
    }
   ],
   "source": [
    "!wget -P /10Gdata/sjt/data/database/taxonomy https://ftp.ncbi.nlm.nih.gov/pub/taxonomy/taxdump.tar.gz"
   ]
  },
  {
   "cell_type": "code",
   "execution_count": 3,
   "metadata": {},
   "outputs": [],
   "source": [
    "tarfile.is_tarfile(\"/10Gdata/sjt/data/database/taxonomy/taxdump.tar.gz\")\n",
    "tar = tarfile.open(\"/10Gdata/sjt/data/database/taxonomy/taxdump.tar.gz\")\n",
    "tar.extractall()\n",
    "tar.close()"
   ]
  },
  {
   "cell_type": "code",
   "execution_count": null,
   "metadata": {},
   "outputs": [],
   "source": [
    "!wget https://ftp.ncbi.nlm.nih.gov/bioproject/summary.txt"
   ]
  },
  {
   "cell_type": "code",
   "execution_count": null,
   "metadata": {},
   "outputs": [],
   "source": [
    "fig, ax = plt.subplots(figsize=(20, 10), subplot_kw=dict(aspect=\"equal\"))\n",
    "\n",
    "tmp = pd.read_csv('/10Gdata/sjt/docker_volume/backup/jupyter/resveratrol/summary.txt',sep='\\t')\n",
    "\n",
    "data = [float(x) for x in tmp['count']]\n",
    "datatype = [x for x in tmp['datatype']]\n",
    "\n",
    "\n",
    "def func(pct, allvals):\n",
    "    absolute = int(np.round(pct/100.*np.sum(allvals)))\n",
    "    return \"{:.1f}%\\n({:d})\".format(pct, absolute) if pct > 3 else ''\n",
    "\n",
    "colors = sns.color_palette('Set2',len(datatype))\n",
    "\n",
    "wedges, texts, autotexts = ax.pie(data, autopct=lambda pct: func(pct, data),\n",
    "                                  textprops=dict(color=\"w\"),colors=colors)\n",
    "\n",
    "ax.legend(wedges, datatype,\n",
    "          title=\"datatype\",\n",
    "          loc=\"center left\",\n",
    "          bbox_to_anchor=(1, 0, 0.5, 1))\n",
    "\n",
    "plt.setp(autotexts, size=8, weight=\"bold\")\n",
    "\n",
    "ax.set_title(\"NCBI Bioproject Data Coverage\")\n",
    "\n",
    "plt.show()"
   ]
  }
 ],
 "metadata": {
  "kernelspec": {
   "display_name": "Python 3 (ipykernel)",
   "language": "python",
   "name": "python3"
  },
  "language_info": {
   "codemirror_mode": {
    "name": "ipython",
    "version": 3
   },
   "file_extension": ".py",
   "mimetype": "text/x-python",
   "name": "python",
   "nbconvert_exporter": "python",
   "pygments_lexer": "ipython3",
   "version": "3.10.4"
  },
  "orig_nbformat": 4
 },
 "nbformat": 4,
 "nbformat_minor": 2
}
