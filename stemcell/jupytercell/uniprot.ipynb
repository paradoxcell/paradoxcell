{
 "cells": [
  {
   "cell_type": "code",
   "execution_count": 37,
   "metadata": {},
   "outputs": [],
   "source": [
    "# Standard library imports\n",
    "import sys\n",
    "import sqlite3\n",
    "\n",
    "# Related third party imports\n",
    "from tqdm import tqdm\n",
    "import pandas as pd\n",
    "\n",
    "# Local application/library specific imports.\n",
    "# paradoxcell\n",
    "sys.path.append('/10Gdata/sjt')\n",
    "import paradoxcell as pc"
   ]
  },
  {
   "cell_type": "code",
   "execution_count": 38,
   "metadata": {},
   "outputs": [],
   "source": [
    "connect = sqlite3.connect('/10Gdata/sjt/data/database/eggnog/eggnog-mapper-data/eggnog.db')\n",
    "cursor = connect.cursor()\n",
    "cursor.execute(\"SELECT * FROM event WHERE level=33090;\")\n",
    "tuple_eventtable_from_eggnogdb_where_level33090 = cursor.fetchall()\n",
    "\n",
    "list_gene_og = [\",\".join([k,og[2]]) for og in tuple_eventtable_from_eggnogdb_where_level33090 for i in og[3:] for k in i.split(',')]\n",
    "list_gene_og = list(set(list_gene_og))\n",
    "list_gene_og = sorted(list_gene_og)"
   ]
  },
  {
   "cell_type": "code",
   "execution_count": 44,
   "metadata": {},
   "outputs": [],
   "source": [
    "dic_gene_og = dict()\n",
    "for i in list_gene_og:\n",
    "    key = i.split(',')[0]\n",
    "    value = i.split(',')[1]\n",
    "    dic_gene_og[key] = value"
   ]
  },
  {
   "cell_type": "code",
   "execution_count": 42,
   "metadata": {},
   "outputs": [],
   "source": [
    "genes = [i.split(',')[0] for i in list_gene_og]"
   ]
  },
  {
   "cell_type": "code",
   "execution_count": null,
   "metadata": {},
   "outputs": [],
   "source": [
    "df_stringid_uniprotid = pd.DataFrame()\n",
    "\n",
    "for i in range(0,len(genes)+1,50000):\n",
    "    if i+5000 < len(genes):\n",
    "        df = pc.get_df_uniprot_mapping('STRING_ID','ID',\" \".join(genes[i:i+50000]))\n",
    "        df_stringid_uniprotid = pd.concat([df_stringid_uniprotid,df])\n",
    "    else:\n",
    "        df = pc.get_df_uniprot_mapping('STRING_ID','ID',\" \".join(genes[i:]))\n",
    "        df_stringid_uniprotid = pd.concat([df_stringid_uniprotid,df])\n",
    "\n",
    "df_stringid_uniprotid"
   ]
  },
  {
   "cell_type": "code",
   "execution_count": null,
   "metadata": {},
   "outputs": [],
   "source": [
    "df_uniprotid_stringid_ensemblgenomeid_og_for_eggnog33090"
   ]
  },
  {
   "cell_type": "code",
   "execution_count": null,
   "metadata": {},
   "outputs": [],
   "source": [
    "df_uniprotid_ensemblgenomeid = pd.DataFrame()\n",
    "\n",
    "for i in range(0,len(df_stringid_uniprotid['To'])+1,50000):\n",
    "    if i+5000 < len(df_stringid_uniprotid['To']):\n",
    "        df = pc.get_df_uniprot_mapping('ID','ENSEMBLGENOME_ID',\" \".join(df_stringid_uniprotid['To'][i:i+50000]))\n",
    "        df_uniprotid_ensemblgenomeid = pd.concat([df_uniprotid_ensemblgenomeid,df])\n",
    "    else:\n",
    "        df = pc.get_df_uniprot_mapping('ID','ENSEMBLGENOME_ID',\" \".join(df_stringid_uniprotid['To'][i:]))\n",
    "        df_uniprotid_ensemblgenomeid = pd.concat([df_uniprotid_ensemblgenomeid,df])\n",
    "\n",
    "df_uniprotid_ensemblgenomeid"
   ]
  },
  {
   "cell_type": "code",
   "execution_count": null,
   "metadata": {},
   "outputs": [],
   "source": [
    "df_stringid_uniprotid.rename(columns={'From':'stringid','To':'uniprotid'},inplace=True)\n",
    "df_uniprotid_ensemblgenomeid.rename(columns={'From':'uniprotid','To':'ensemblgenomeid'},inplace=True)"
   ]
  },
  {
   "cell_type": "code",
   "execution_count": null,
   "metadata": {},
   "outputs": [],
   "source": [
    "df_uniprotid_stringid_ensemblgenomeid_og_for_eggnog33090 = pd.merge(df_stringid_uniprotid,df_uniprotid_ensemblgenomeid,on='uniprotid')\n",
    "df_uniprotid_stringid_ensemblgenomeid_og_for_eggnog33090['og'] = df_uniprotid_stringid_ensemblgenomeid_og_for_eggnog33090['stringid'].apply(lambda x : dic_gene_og[x])\n",
    "df_uniprotid_stringid_ensemblgenomeid_og_for_eggnog33090"
   ]
  }
 ],
 "metadata": {
  "kernelspec": {
   "display_name": "Python 3 (ipykernel)",
   "language": "python",
   "name": "python3"
  },
  "language_info": {
   "codemirror_mode": {
    "name": "ipython",
    "version": 3
   },
   "file_extension": ".py",
   "mimetype": "text/x-python",
   "name": "python",
   "nbconvert_exporter": "python",
   "pygments_lexer": "ipython3",
   "version": "3.10.4"
  },
  "orig_nbformat": 4
 },
 "nbformat": 4,
 "nbformat_minor": 2
}
